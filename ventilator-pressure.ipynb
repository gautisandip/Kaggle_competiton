{
 "cells": [
  {
   "cell_type": "code",
   "execution_count": 1,
   "id": "2c89f82c",
   "metadata": {
    "_cell_guid": "b1076dfc-b9ad-4769-8c92-a6c4dae69d19",
    "_uuid": "8f2839f25d086af736a60e9eeb907d3b93b6e0e5",
    "execution": {
     "iopub.execute_input": "2022-01-31T13:32:43.703338Z",
     "iopub.status.busy": "2022-01-31T13:32:43.702161Z",
     "iopub.status.idle": "2022-01-31T13:32:51.296166Z",
     "shell.execute_reply": "2022-01-31T13:32:51.296688Z",
     "shell.execute_reply.started": "2022-01-31T12:31:39.720125Z"
    },
    "papermill": {
     "duration": 7.628297,
     "end_time": "2022-01-31T13:32:51.297056",
     "exception": false,
     "start_time": "2022-01-31T13:32:43.668759",
     "status": "completed"
    },
    "tags": []
   },
   "outputs": [],
   "source": [
    "# This Python 3 environment comes with many helpful analytics libraries installed\n",
    "# It is defined by the kaggle/python Docker image: https://github.com/kaggle/docker-python\n",
    "# For example, here's several helpful packages to load\n",
    "\n",
    "import tensorflow as tf\n",
    "import pandas as pd\n",
    "import matplotlib.pyplot as plt\n",
    "import seaborn as sns\n",
    "import numpy as np\n",
    "import sklearn\n",
    "import pickle\n",
    "from tensorflow.keras.models import Sequential\n",
    "from tensorflow.keras.layers import Activation,Dense\n",
    "from sklearn.metrics import mean_squared_error, r2_score \n",
    "%matplotlib inline"
   ]
  },
  {
   "cell_type": "code",
   "execution_count": 2,
   "id": "b2e0d0a4",
   "metadata": {
    "execution": {
     "iopub.execute_input": "2022-01-31T13:32:51.353632Z",
     "iopub.status.busy": "2022-01-31T13:32:51.352837Z",
     "iopub.status.idle": "2022-01-31T13:33:07.938399Z",
     "shell.execute_reply": "2022-01-31T13:33:07.937657Z",
     "shell.execute_reply.started": "2022-01-31T12:31:47.300567Z"
    },
    "papermill": {
     "duration": 16.615833,
     "end_time": "2022-01-31T13:33:07.938555",
     "exception": false,
     "start_time": "2022-01-31T13:32:51.322722",
     "status": "completed"
    },
    "tags": []
   },
   "outputs": [],
   "source": [
    "train = pd.read_csv('../input/ventilator-pressure-prediction/train.csv')\n",
    "test = pd.read_csv('../input/ventilator-pressure-prediction/test.csv')\n",
    "sample = pd.read_csv('../input/ventilator-pressure-prediction/sample_submission.csv')"
   ]
  },
  {
   "cell_type": "code",
   "execution_count": 3,
   "id": "69c4a257",
   "metadata": {
    "execution": {
     "iopub.execute_input": "2022-01-31T13:33:07.994702Z",
     "iopub.status.busy": "2022-01-31T13:33:07.993874Z",
     "iopub.status.idle": "2022-01-31T13:33:07.997109Z",
     "shell.execute_reply": "2022-01-31T13:33:07.996433Z",
     "shell.execute_reply.started": "2022-01-31T12:32:02.13525Z"
    },
    "papermill": {
     "duration": 0.033532,
     "end_time": "2022-01-31T13:33:07.997265",
     "exception": false,
     "start_time": "2022-01-31T13:33:07.963733",
     "status": "completed"
    },
    "tags": []
   },
   "outputs": [],
   "source": [
    "# copy train & test data\n",
    "train_df = train\n",
    "test_df = test"
   ]
  },
  {
   "cell_type": "code",
   "execution_count": 4,
   "id": "c459e33f",
   "metadata": {
    "execution": {
     "iopub.execute_input": "2022-01-31T13:33:08.060647Z",
     "iopub.status.busy": "2022-01-31T13:33:08.059905Z",
     "iopub.status.idle": "2022-01-31T13:33:08.075149Z",
     "shell.execute_reply": "2022-01-31T13:33:08.074571Z",
     "shell.execute_reply.started": "2022-01-31T12:32:02.141801Z"
    },
    "papermill": {
     "duration": 0.051649,
     "end_time": "2022-01-31T13:33:08.075330",
     "exception": false,
     "start_time": "2022-01-31T13:33:08.023681",
     "status": "completed"
    },
    "tags": []
   },
   "outputs": [
    {
     "data": {
      "text/html": [
       "<div>\n",
       "<style scoped>\n",
       "    .dataframe tbody tr th:only-of-type {\n",
       "        vertical-align: middle;\n",
       "    }\n",
       "\n",
       "    .dataframe tbody tr th {\n",
       "        vertical-align: top;\n",
       "    }\n",
       "\n",
       "    .dataframe thead th {\n",
       "        text-align: right;\n",
       "    }\n",
       "</style>\n",
       "<table border=\"1\" class=\"dataframe\">\n",
       "  <thead>\n",
       "    <tr style=\"text-align: right;\">\n",
       "      <th></th>\n",
       "      <th>id</th>\n",
       "      <th>pressure</th>\n",
       "    </tr>\n",
       "  </thead>\n",
       "  <tbody>\n",
       "    <tr>\n",
       "      <th>0</th>\n",
       "      <td>1</td>\n",
       "      <td>0</td>\n",
       "    </tr>\n",
       "    <tr>\n",
       "      <th>1</th>\n",
       "      <td>2</td>\n",
       "      <td>0</td>\n",
       "    </tr>\n",
       "    <tr>\n",
       "      <th>2</th>\n",
       "      <td>3</td>\n",
       "      <td>0</td>\n",
       "    </tr>\n",
       "    <tr>\n",
       "      <th>3</th>\n",
       "      <td>4</td>\n",
       "      <td>0</td>\n",
       "    </tr>\n",
       "    <tr>\n",
       "      <th>4</th>\n",
       "      <td>5</td>\n",
       "      <td>0</td>\n",
       "    </tr>\n",
       "  </tbody>\n",
       "</table>\n",
       "</div>"
      ],
      "text/plain": [
       "   id  pressure\n",
       "0   1         0\n",
       "1   2         0\n",
       "2   3         0\n",
       "3   4         0\n",
       "4   5         0"
      ]
     },
     "execution_count": 4,
     "metadata": {},
     "output_type": "execute_result"
    }
   ],
   "source": [
    "sample.head()"
   ]
  },
  {
   "cell_type": "code",
   "execution_count": 5,
   "id": "a246b733",
   "metadata": {
    "execution": {
     "iopub.execute_input": "2022-01-31T13:33:08.141971Z",
     "iopub.status.busy": "2022-01-31T13:33:08.141232Z",
     "iopub.status.idle": "2022-01-31T13:33:08.144602Z",
     "shell.execute_reply": "2022-01-31T13:33:08.144110Z",
     "shell.execute_reply.started": "2022-01-31T12:32:02.16881Z"
    },
    "papermill": {
     "duration": 0.042672,
     "end_time": "2022-01-31T13:33:08.144763",
     "exception": false,
     "start_time": "2022-01-31T13:33:08.102091",
     "status": "completed"
    },
    "tags": []
   },
   "outputs": [
    {
     "data": {
      "text/html": [
       "<div>\n",
       "<style scoped>\n",
       "    .dataframe tbody tr th:only-of-type {\n",
       "        vertical-align: middle;\n",
       "    }\n",
       "\n",
       "    .dataframe tbody tr th {\n",
       "        vertical-align: top;\n",
       "    }\n",
       "\n",
       "    .dataframe thead th {\n",
       "        text-align: right;\n",
       "    }\n",
       "</style>\n",
       "<table border=\"1\" class=\"dataframe\">\n",
       "  <thead>\n",
       "    <tr style=\"text-align: right;\">\n",
       "      <th></th>\n",
       "      <th>id</th>\n",
       "      <th>breath_id</th>\n",
       "      <th>R</th>\n",
       "      <th>C</th>\n",
       "      <th>time_step</th>\n",
       "      <th>u_in</th>\n",
       "      <th>u_out</th>\n",
       "      <th>pressure</th>\n",
       "    </tr>\n",
       "  </thead>\n",
       "  <tbody>\n",
       "    <tr>\n",
       "      <th>0</th>\n",
       "      <td>1</td>\n",
       "      <td>1</td>\n",
       "      <td>20</td>\n",
       "      <td>50</td>\n",
       "      <td>0.000000</td>\n",
       "      <td>0.083334</td>\n",
       "      <td>0</td>\n",
       "      <td>5.837492</td>\n",
       "    </tr>\n",
       "    <tr>\n",
       "      <th>1</th>\n",
       "      <td>2</td>\n",
       "      <td>1</td>\n",
       "      <td>20</td>\n",
       "      <td>50</td>\n",
       "      <td>0.033652</td>\n",
       "      <td>18.383041</td>\n",
       "      <td>0</td>\n",
       "      <td>5.907794</td>\n",
       "    </tr>\n",
       "    <tr>\n",
       "      <th>2</th>\n",
       "      <td>3</td>\n",
       "      <td>1</td>\n",
       "      <td>20</td>\n",
       "      <td>50</td>\n",
       "      <td>0.067514</td>\n",
       "      <td>22.509278</td>\n",
       "      <td>0</td>\n",
       "      <td>7.876254</td>\n",
       "    </tr>\n",
       "    <tr>\n",
       "      <th>3</th>\n",
       "      <td>4</td>\n",
       "      <td>1</td>\n",
       "      <td>20</td>\n",
       "      <td>50</td>\n",
       "      <td>0.101542</td>\n",
       "      <td>22.808822</td>\n",
       "      <td>0</td>\n",
       "      <td>11.742872</td>\n",
       "    </tr>\n",
       "    <tr>\n",
       "      <th>4</th>\n",
       "      <td>5</td>\n",
       "      <td>1</td>\n",
       "      <td>20</td>\n",
       "      <td>50</td>\n",
       "      <td>0.135756</td>\n",
       "      <td>25.355850</td>\n",
       "      <td>0</td>\n",
       "      <td>12.234987</td>\n",
       "    </tr>\n",
       "  </tbody>\n",
       "</table>\n",
       "</div>"
      ],
      "text/plain": [
       "   id  breath_id   R   C  time_step       u_in  u_out   pressure\n",
       "0   1          1  20  50   0.000000   0.083334      0   5.837492\n",
       "1   2          1  20  50   0.033652  18.383041      0   5.907794\n",
       "2   3          1  20  50   0.067514  22.509278      0   7.876254\n",
       "3   4          1  20  50   0.101542  22.808822      0  11.742872\n",
       "4   5          1  20  50   0.135756  25.355850      0  12.234987"
      ]
     },
     "execution_count": 5,
     "metadata": {},
     "output_type": "execute_result"
    }
   ],
   "source": [
    "train.head()"
   ]
  },
  {
   "cell_type": "code",
   "execution_count": 6,
   "id": "30cd86af",
   "metadata": {
    "execution": {
     "iopub.execute_input": "2022-01-31T13:33:08.202721Z",
     "iopub.status.busy": "2022-01-31T13:33:08.201943Z",
     "iopub.status.idle": "2022-01-31T13:33:08.206113Z",
     "shell.execute_reply": "2022-01-31T13:33:08.205393Z",
     "shell.execute_reply.started": "2022-01-31T12:32:02.182926Z"
    },
    "papermill": {
     "duration": 0.035532,
     "end_time": "2022-01-31T13:33:08.206281",
     "exception": false,
     "start_time": "2022-01-31T13:33:08.170749",
     "status": "completed"
    },
    "tags": []
   },
   "outputs": [
    {
     "name": "stdout",
     "output_type": "stream",
     "text": [
      "(6036000, 8)\n",
      "(4024000, 7)\n"
     ]
    }
   ],
   "source": [
    "print(train.shape)\n",
    "print(test.shape)"
   ]
  },
  {
   "cell_type": "code",
   "execution_count": 7,
   "id": "37e31254",
   "metadata": {
    "execution": {
     "iopub.execute_input": "2022-01-31T13:33:08.273226Z",
     "iopub.status.busy": "2022-01-31T13:33:08.272279Z",
     "iopub.status.idle": "2022-01-31T13:33:08.276450Z",
     "shell.execute_reply": "2022-01-31T13:33:08.276913Z",
     "shell.execute_reply.started": "2022-01-31T12:32:02.19735Z"
    },
    "papermill": {
     "duration": 0.043885,
     "end_time": "2022-01-31T13:33:08.277154",
     "exception": false,
     "start_time": "2022-01-31T13:33:08.233269",
     "status": "completed"
    },
    "tags": []
   },
   "outputs": [
    {
     "data": {
      "text/html": [
       "<div>\n",
       "<style scoped>\n",
       "    .dataframe tbody tr th:only-of-type {\n",
       "        vertical-align: middle;\n",
       "    }\n",
       "\n",
       "    .dataframe tbody tr th {\n",
       "        vertical-align: top;\n",
       "    }\n",
       "\n",
       "    .dataframe thead th {\n",
       "        text-align: right;\n",
       "    }\n",
       "</style>\n",
       "<table border=\"1\" class=\"dataframe\">\n",
       "  <thead>\n",
       "    <tr style=\"text-align: right;\">\n",
       "      <th></th>\n",
       "      <th>id</th>\n",
       "      <th>breath_id</th>\n",
       "      <th>R</th>\n",
       "      <th>C</th>\n",
       "      <th>time_step</th>\n",
       "      <th>u_in</th>\n",
       "      <th>u_out</th>\n",
       "    </tr>\n",
       "  </thead>\n",
       "  <tbody>\n",
       "    <tr>\n",
       "      <th>0</th>\n",
       "      <td>1</td>\n",
       "      <td>0</td>\n",
       "      <td>5</td>\n",
       "      <td>20</td>\n",
       "      <td>0.000000</td>\n",
       "      <td>0.000000</td>\n",
       "      <td>0</td>\n",
       "    </tr>\n",
       "    <tr>\n",
       "      <th>1</th>\n",
       "      <td>2</td>\n",
       "      <td>0</td>\n",
       "      <td>5</td>\n",
       "      <td>20</td>\n",
       "      <td>0.031904</td>\n",
       "      <td>7.515046</td>\n",
       "      <td>0</td>\n",
       "    </tr>\n",
       "    <tr>\n",
       "      <th>2</th>\n",
       "      <td>3</td>\n",
       "      <td>0</td>\n",
       "      <td>5</td>\n",
       "      <td>20</td>\n",
       "      <td>0.063827</td>\n",
       "      <td>14.651675</td>\n",
       "      <td>0</td>\n",
       "    </tr>\n",
       "    <tr>\n",
       "      <th>3</th>\n",
       "      <td>4</td>\n",
       "      <td>0</td>\n",
       "      <td>5</td>\n",
       "      <td>20</td>\n",
       "      <td>0.095751</td>\n",
       "      <td>21.230610</td>\n",
       "      <td>0</td>\n",
       "    </tr>\n",
       "    <tr>\n",
       "      <th>4</th>\n",
       "      <td>5</td>\n",
       "      <td>0</td>\n",
       "      <td>5</td>\n",
       "      <td>20</td>\n",
       "      <td>0.127644</td>\n",
       "      <td>26.320956</td>\n",
       "      <td>0</td>\n",
       "    </tr>\n",
       "  </tbody>\n",
       "</table>\n",
       "</div>"
      ],
      "text/plain": [
       "   id  breath_id  R   C  time_step       u_in  u_out\n",
       "0   1          0  5  20   0.000000   0.000000      0\n",
       "1   2          0  5  20   0.031904   7.515046      0\n",
       "2   3          0  5  20   0.063827  14.651675      0\n",
       "3   4          0  5  20   0.095751  21.230610      0\n",
       "4   5          0  5  20   0.127644  26.320956      0"
      ]
     },
     "execution_count": 7,
     "metadata": {},
     "output_type": "execute_result"
    }
   ],
   "source": [
    "test.head()"
   ]
  },
  {
   "cell_type": "code",
   "execution_count": 8,
   "id": "0d1b8ae5",
   "metadata": {
    "execution": {
     "iopub.execute_input": "2022-01-31T13:33:08.340672Z",
     "iopub.status.busy": "2022-01-31T13:33:08.339353Z",
     "iopub.status.idle": "2022-01-31T13:33:08.485823Z",
     "shell.execute_reply": "2022-01-31T13:33:08.485226Z",
     "shell.execute_reply.started": "2022-01-31T12:32:02.215403Z"
    },
    "papermill": {
     "duration": 0.180352,
     "end_time": "2022-01-31T13:33:08.485986",
     "exception": false,
     "start_time": "2022-01-31T13:33:08.305634",
     "status": "completed"
    },
    "tags": []
   },
   "outputs": [
    {
     "name": "stdout",
     "output_type": "stream",
     "text": [
      "id           0\n",
      "breath_id    0\n",
      "R            0\n",
      "C            0\n",
      "time_step    0\n",
      "u_in         0\n",
      "u_out        0\n",
      "pressure     0\n",
      "dtype: int64\n",
      "id           0\n",
      "breath_id    0\n",
      "R            0\n",
      "C            0\n",
      "time_step    0\n",
      "u_in         0\n",
      "u_out        0\n",
      "dtype: int64\n"
     ]
    }
   ],
   "source": [
    "print(train.isnull().sum())\n",
    "print(test.isnull().sum())"
   ]
  },
  {
   "cell_type": "code",
   "execution_count": 9,
   "id": "de6a7307",
   "metadata": {
    "execution": {
     "iopub.execute_input": "2022-01-31T13:33:08.761650Z",
     "iopub.status.busy": "2022-01-31T13:33:08.760398Z",
     "iopub.status.idle": "2022-01-31T13:33:10.083708Z",
     "shell.execute_reply": "2022-01-31T13:33:10.083134Z",
     "shell.execute_reply.started": "2022-01-31T12:32:02.346369Z"
    },
    "papermill": {
     "duration": 1.569927,
     "end_time": "2022-01-31T13:33:10.083856",
     "exception": false,
     "start_time": "2022-01-31T13:33:08.513929",
     "status": "completed"
    },
    "tags": []
   },
   "outputs": [
    {
     "data": {
      "text/html": [
       "<div>\n",
       "<style scoped>\n",
       "    .dataframe tbody tr th:only-of-type {\n",
       "        vertical-align: middle;\n",
       "    }\n",
       "\n",
       "    .dataframe tbody tr th {\n",
       "        vertical-align: top;\n",
       "    }\n",
       "\n",
       "    .dataframe thead th {\n",
       "        text-align: right;\n",
       "    }\n",
       "</style>\n",
       "<table border=\"1\" class=\"dataframe\">\n",
       "  <thead>\n",
       "    <tr style=\"text-align: right;\">\n",
       "      <th></th>\n",
       "      <th>id</th>\n",
       "      <th>breath_id</th>\n",
       "      <th>R</th>\n",
       "      <th>C</th>\n",
       "      <th>time_step</th>\n",
       "      <th>u_in</th>\n",
       "      <th>u_out</th>\n",
       "      <th>pressure</th>\n",
       "    </tr>\n",
       "  </thead>\n",
       "  <tbody>\n",
       "    <tr>\n",
       "      <th>count</th>\n",
       "      <td>6.036000e+06</td>\n",
       "      <td>6.036000e+06</td>\n",
       "      <td>6.036000e+06</td>\n",
       "      <td>6.036000e+06</td>\n",
       "      <td>6.036000e+06</td>\n",
       "      <td>6.036000e+06</td>\n",
       "      <td>6.036000e+06</td>\n",
       "      <td>6.036000e+06</td>\n",
       "    </tr>\n",
       "    <tr>\n",
       "      <th>mean</th>\n",
       "      <td>3.018000e+06</td>\n",
       "      <td>6.283886e+04</td>\n",
       "      <td>2.703618e+01</td>\n",
       "      <td>2.608072e+01</td>\n",
       "      <td>1.307225e+00</td>\n",
       "      <td>7.321615e+00</td>\n",
       "      <td>6.204493e-01</td>\n",
       "      <td>1.122041e+01</td>\n",
       "    </tr>\n",
       "    <tr>\n",
       "      <th>std</th>\n",
       "      <td>1.742443e+06</td>\n",
       "      <td>3.633526e+04</td>\n",
       "      <td>1.959549e+01</td>\n",
       "      <td>1.715231e+01</td>\n",
       "      <td>7.659778e-01</td>\n",
       "      <td>1.343470e+01</td>\n",
       "      <td>4.852752e-01</td>\n",
       "      <td>8.109703e+00</td>\n",
       "    </tr>\n",
       "    <tr>\n",
       "      <th>min</th>\n",
       "      <td>1.000000e+00</td>\n",
       "      <td>1.000000e+00</td>\n",
       "      <td>5.000000e+00</td>\n",
       "      <td>1.000000e+01</td>\n",
       "      <td>0.000000e+00</td>\n",
       "      <td>0.000000e+00</td>\n",
       "      <td>0.000000e+00</td>\n",
       "      <td>-1.895744e+00</td>\n",
       "    </tr>\n",
       "    <tr>\n",
       "      <th>25%</th>\n",
       "      <td>1.509001e+06</td>\n",
       "      <td>3.137700e+04</td>\n",
       "      <td>5.000000e+00</td>\n",
       "      <td>1.000000e+01</td>\n",
       "      <td>6.428995e-01</td>\n",
       "      <td>3.936623e-01</td>\n",
       "      <td>0.000000e+00</td>\n",
       "      <td>6.329607e+00</td>\n",
       "    </tr>\n",
       "    <tr>\n",
       "      <th>50%</th>\n",
       "      <td>3.018000e+06</td>\n",
       "      <td>6.276550e+04</td>\n",
       "      <td>2.000000e+01</td>\n",
       "      <td>2.000000e+01</td>\n",
       "      <td>1.308123e+00</td>\n",
       "      <td>4.386146e+00</td>\n",
       "      <td>1.000000e+00</td>\n",
       "      <td>7.032628e+00</td>\n",
       "    </tr>\n",
       "    <tr>\n",
       "      <th>75%</th>\n",
       "      <td>4.527000e+06</td>\n",
       "      <td>9.430100e+04</td>\n",
       "      <td>5.000000e+01</td>\n",
       "      <td>5.000000e+01</td>\n",
       "      <td>1.965502e+00</td>\n",
       "      <td>4.983895e+00</td>\n",
       "      <td>1.000000e+00</td>\n",
       "      <td>1.364103e+01</td>\n",
       "    </tr>\n",
       "    <tr>\n",
       "      <th>max</th>\n",
       "      <td>6.036000e+06</td>\n",
       "      <td>1.257490e+05</td>\n",
       "      <td>5.000000e+01</td>\n",
       "      <td>5.000000e+01</td>\n",
       "      <td>2.937238e+00</td>\n",
       "      <td>1.000000e+02</td>\n",
       "      <td>1.000000e+00</td>\n",
       "      <td>6.482099e+01</td>\n",
       "    </tr>\n",
       "  </tbody>\n",
       "</table>\n",
       "</div>"
      ],
      "text/plain": [
       "                 id     breath_id             R             C     time_step  \\\n",
       "count  6.036000e+06  6.036000e+06  6.036000e+06  6.036000e+06  6.036000e+06   \n",
       "mean   3.018000e+06  6.283886e+04  2.703618e+01  2.608072e+01  1.307225e+00   \n",
       "std    1.742443e+06  3.633526e+04  1.959549e+01  1.715231e+01  7.659778e-01   \n",
       "min    1.000000e+00  1.000000e+00  5.000000e+00  1.000000e+01  0.000000e+00   \n",
       "25%    1.509001e+06  3.137700e+04  5.000000e+00  1.000000e+01  6.428995e-01   \n",
       "50%    3.018000e+06  6.276550e+04  2.000000e+01  2.000000e+01  1.308123e+00   \n",
       "75%    4.527000e+06  9.430100e+04  5.000000e+01  5.000000e+01  1.965502e+00   \n",
       "max    6.036000e+06  1.257490e+05  5.000000e+01  5.000000e+01  2.937238e+00   \n",
       "\n",
       "               u_in         u_out      pressure  \n",
       "count  6.036000e+06  6.036000e+06  6.036000e+06  \n",
       "mean   7.321615e+00  6.204493e-01  1.122041e+01  \n",
       "std    1.343470e+01  4.852752e-01  8.109703e+00  \n",
       "min    0.000000e+00  0.000000e+00 -1.895744e+00  \n",
       "25%    3.936623e-01  0.000000e+00  6.329607e+00  \n",
       "50%    4.386146e+00  1.000000e+00  7.032628e+00  \n",
       "75%    4.983895e+00  1.000000e+00  1.364103e+01  \n",
       "max    1.000000e+02  1.000000e+00  6.482099e+01  "
      ]
     },
     "execution_count": 9,
     "metadata": {},
     "output_type": "execute_result"
    }
   ],
   "source": [
    "train.describe()"
   ]
  },
  {
   "cell_type": "code",
   "execution_count": 10,
   "id": "8546fc92",
   "metadata": {
    "execution": {
     "iopub.execute_input": "2022-01-31T13:33:10.158052Z",
     "iopub.status.busy": "2022-01-31T13:33:10.156584Z",
     "iopub.status.idle": "2022-01-31T13:33:10.160482Z",
     "shell.execute_reply": "2022-01-31T13:33:10.161244Z",
     "shell.execute_reply.started": "2022-01-31T12:32:03.657083Z"
    },
    "papermill": {
     "duration": 0.047847,
     "end_time": "2022-01-31T13:33:10.161484",
     "exception": false,
     "start_time": "2022-01-31T13:33:10.113637",
     "status": "completed"
    },
    "tags": []
   },
   "outputs": [
    {
     "name": "stdout",
     "output_type": "stream",
     "text": [
      "(6036000, 8)\n",
      "Index(['id', 'breath_id', 'R', 'C', 'time_step', 'u_in', 'u_out', 'pressure'], dtype='object')\n"
     ]
    }
   ],
   "source": [
    "print(train.shape)\n",
    "print(train.columns)"
   ]
  },
  {
   "cell_type": "code",
   "execution_count": 11,
   "id": "dba98db8",
   "metadata": {
    "execution": {
     "iopub.execute_input": "2022-01-31T13:33:10.489970Z",
     "iopub.status.busy": "2022-01-31T13:33:10.488686Z",
     "iopub.status.idle": "2022-01-31T13:33:10.639394Z",
     "shell.execute_reply": "2022-01-31T13:33:10.638733Z",
     "shell.execute_reply.started": "2022-01-31T12:32:03.663433Z"
    },
    "papermill": {
     "duration": 0.441053,
     "end_time": "2022-01-31T13:33:10.639562",
     "exception": false,
     "start_time": "2022-01-31T13:33:10.198509",
     "status": "completed"
    },
    "tags": []
   },
   "outputs": [],
   "source": [
    "train = train.drop(['id','breath_id'], axis = 1)\n",
    "test = test.drop(['id','breath_id'], axis = 1)\n",
    "X=train.drop('pressure',axis=1)\n",
    "y = train['pressure']"
   ]
  },
  {
   "cell_type": "code",
   "execution_count": 12,
   "id": "1d328afe",
   "metadata": {
    "execution": {
     "iopub.execute_input": "2022-01-31T13:33:10.705156Z",
     "iopub.status.busy": "2022-01-31T13:33:10.704420Z",
     "iopub.status.idle": "2022-01-31T13:33:12.137191Z",
     "shell.execute_reply": "2022-01-31T13:33:12.137766Z",
     "shell.execute_reply.started": "2022-01-31T12:32:03.920004Z"
    },
    "papermill": {
     "duration": 1.469805,
     "end_time": "2022-01-31T13:33:12.138034",
     "exception": false,
     "start_time": "2022-01-31T13:33:10.668229",
     "status": "completed"
    },
    "tags": []
   },
   "outputs": [],
   "source": [
    "from sklearn.model_selection import train_test_split\n",
    "\n",
    "X_train, X_val, y_train, y_val = train_test_split(X,y, random_state=101, test_size=0.1)"
   ]
  },
  {
   "cell_type": "code",
   "execution_count": 13,
   "id": "f50b66b4",
   "metadata": {
    "execution": {
     "iopub.execute_input": "2022-01-31T13:33:12.199899Z",
     "iopub.status.busy": "2022-01-31T13:33:12.198971Z",
     "iopub.status.idle": "2022-01-31T13:33:12.203247Z",
     "shell.execute_reply": "2022-01-31T13:33:12.203881Z",
     "shell.execute_reply.started": "2022-01-31T12:32:05.349148Z"
    },
    "papermill": {
     "duration": 0.037477,
     "end_time": "2022-01-31T13:33:12.204090",
     "exception": false,
     "start_time": "2022-01-31T13:33:12.166613",
     "status": "completed"
    },
    "tags": []
   },
   "outputs": [],
   "source": [
    "from sklearn.preprocessing import StandardScaler\n",
    "sc= StandardScaler()"
   ]
  },
  {
   "cell_type": "code",
   "execution_count": 14,
   "id": "af12a091",
   "metadata": {
    "execution": {
     "iopub.execute_input": "2022-01-31T13:33:12.267207Z",
     "iopub.status.busy": "2022-01-31T13:33:12.266216Z",
     "iopub.status.idle": "2022-01-31T13:33:13.248078Z",
     "shell.execute_reply": "2022-01-31T13:33:13.247447Z",
     "shell.execute_reply.started": "2022-01-31T12:32:05.358962Z"
    },
    "papermill": {
     "duration": 1.014196,
     "end_time": "2022-01-31T13:33:13.248265",
     "exception": false,
     "start_time": "2022-01-31T13:33:12.234069",
     "status": "completed"
    },
    "tags": []
   },
   "outputs": [],
   "source": [
    "X_train_std= sc.fit_transform(X_train)\n",
    "test_std= sc.transform(test)\n",
    "X_val_std= sc.transform(X_val)"
   ]
  },
  {
   "cell_type": "code",
   "execution_count": 15,
   "id": "0fdd81bf",
   "metadata": {
    "execution": {
     "iopub.execute_input": "2022-01-31T13:33:13.313496Z",
     "iopub.status.busy": "2022-01-31T13:33:13.312597Z",
     "iopub.status.idle": "2022-01-31T13:33:13.316631Z",
     "shell.execute_reply": "2022-01-31T13:33:13.317184Z",
     "shell.execute_reply.started": "2022-01-31T12:32:06.319454Z"
    },
    "papermill": {
     "duration": 0.04012,
     "end_time": "2022-01-31T13:33:13.317384",
     "exception": false,
     "start_time": "2022-01-31T13:33:13.277264",
     "status": "completed"
    },
    "tags": []
   },
   "outputs": [
    {
     "data": {
      "text/plain": [
       "array([[-1.12450265, -0.93764418, -0.35991722, -0.54498622,  0.78207629],\n",
       "       [-1.12450265, -0.35465345,  1.45515061, -0.17597426,  0.78207629],\n",
       "       [-0.35901541, -0.35465345,  0.20387996, -0.54498622,  0.78207629],\n",
       "       ...,\n",
       "       [-1.12450265,  1.39431875,  1.80491167, -0.1736116 ,  0.78207629],\n",
       "       [-0.35901541, -0.93764418, -0.25469924, -0.54498622,  0.78207629],\n",
       "       [-0.35901541, -0.93764418,  1.77536654, -0.17382574,  0.78207629]])"
      ]
     },
     "execution_count": 15,
     "metadata": {},
     "output_type": "execute_result"
    }
   ],
   "source": [
    "X_train_std"
   ]
  },
  {
   "cell_type": "code",
   "execution_count": 16,
   "id": "55eb6ffc",
   "metadata": {
    "execution": {
     "iopub.execute_input": "2022-01-31T13:33:13.382497Z",
     "iopub.status.busy": "2022-01-31T13:33:13.381786Z",
     "iopub.status.idle": "2022-01-31T13:33:13.385706Z",
     "shell.execute_reply": "2022-01-31T13:33:13.385137Z",
     "shell.execute_reply.started": "2022-01-31T12:32:06.327452Z"
    },
    "papermill": {
     "duration": 0.039057,
     "end_time": "2022-01-31T13:33:13.385855",
     "exception": false,
     "start_time": "2022-01-31T13:33:13.346798",
     "status": "completed"
    },
    "tags": []
   },
   "outputs": [
    {
     "data": {
      "text/plain": [
       "array([[ 1.17195909, -0.35465345,  1.08676907, -0.18574118,  0.78207629],\n",
       "       [-0.35901541, -0.35465345, -1.39571244, -0.03461089, -1.27864764],\n",
       "       [-1.12450265, -0.35465345, -1.24965801,  0.0495652 , -1.27864764],\n",
       "       ...,\n",
       "       [ 1.17195909, -0.93764418, -0.29084827, -0.37752119,  0.78207629],\n",
       "       [-1.12450265, -0.35465345, -0.99809611,  1.31591638, -1.27864764],\n",
       "       [-1.12450265, -0.93764418, -0.53597093, -0.42872924, -1.27864764]])"
      ]
     },
     "execution_count": 16,
     "metadata": {},
     "output_type": "execute_result"
    }
   ],
   "source": [
    "X_val_std"
   ]
  },
  {
   "cell_type": "code",
   "execution_count": 17,
   "id": "0ab865da",
   "metadata": {
    "execution": {
     "iopub.execute_input": "2022-01-31T13:33:13.449062Z",
     "iopub.status.busy": "2022-01-31T13:33:13.448360Z",
     "iopub.status.idle": "2022-01-31T13:33:13.453682Z",
     "shell.execute_reply": "2022-01-31T13:33:13.454222Z",
     "shell.execute_reply.started": "2022-01-31T12:32:06.340201Z"
    },
    "papermill": {
     "duration": 0.039084,
     "end_time": "2022-01-31T13:33:13.454415",
     "exception": false,
     "start_time": "2022-01-31T13:33:13.415331",
     "status": "completed"
    },
    "tags": []
   },
   "outputs": [
    {
     "data": {
      "text/plain": [
       "array([[-1.12450265, -0.35465345, -1.70683524, -0.54498622, -1.27864764],\n",
       "       [-1.12450265, -0.35465345, -1.66518295,  0.01444264, -1.27864764],\n",
       "       [-1.12450265, -0.35465345, -1.62350483,  0.54570178, -1.27864764],\n",
       "       ...,\n",
       "       [-0.35901541, -0.93764418,  1.6843269 , -0.17430878,  0.78207629],\n",
       "       [-0.35901541, -0.93764418,  1.72827045, -0.17407203,  0.78207629],\n",
       "       [-0.35901541, -0.93764418,  1.77287793, -0.17386918,  0.78207629]])"
      ]
     },
     "execution_count": 17,
     "metadata": {},
     "output_type": "execute_result"
    }
   ],
   "source": [
    "test_std"
   ]
  },
  {
   "cell_type": "code",
   "execution_count": 18,
   "id": "30696510",
   "metadata": {
    "execution": {
     "iopub.execute_input": "2022-01-31T13:33:13.517221Z",
     "iopub.status.busy": "2022-01-31T13:33:13.516542Z",
     "iopub.status.idle": "2022-01-31T13:33:13.524808Z",
     "shell.execute_reply": "2022-01-31T13:33:13.524319Z",
     "shell.execute_reply.started": "2022-01-31T12:32:06.354963Z"
    },
    "papermill": {
     "duration": 0.041144,
     "end_time": "2022-01-31T13:33:13.524959",
     "exception": false,
     "start_time": "2022-01-31T13:33:13.483815",
     "status": "completed"
    },
    "tags": []
   },
   "outputs": [
    {
     "data": {
      "text/plain": [
       "4274590    14.625260\n",
       "3684476     6.329607\n",
       "5601723     5.696887\n",
       "4569970     5.415679\n",
       "4521169     6.540513\n",
       "             ...    \n",
       "5713995     6.681117\n",
       "311895      6.962326\n",
       "4855359     6.189002\n",
       "1525073     8.508973\n",
       "3322719     6.470211\n",
       "Name: pressure, Length: 5432400, dtype: float64"
      ]
     },
     "execution_count": 18,
     "metadata": {},
     "output_type": "execute_result"
    }
   ],
   "source": [
    "y_train"
   ]
  },
  {
   "cell_type": "code",
   "execution_count": 19,
   "id": "5650624a",
   "metadata": {
    "execution": {
     "iopub.execute_input": "2022-01-31T13:33:13.588523Z",
     "iopub.status.busy": "2022-01-31T13:33:13.587765Z",
     "iopub.status.idle": "2022-01-31T13:33:13.668973Z",
     "shell.execute_reply": "2022-01-31T13:33:13.669528Z",
     "shell.execute_reply.started": "2022-01-31T12:32:06.370268Z"
    },
    "papermill": {
     "duration": 0.115413,
     "end_time": "2022-01-31T13:33:13.669724",
     "exception": false,
     "start_time": "2022-01-31T13:33:13.554311",
     "status": "completed"
    },
    "tags": []
   },
   "outputs": [],
   "source": [
    "from sklearn.linear_model import LinearRegression\n",
    "lr= LinearRegression()"
   ]
  },
  {
   "cell_type": "code",
   "execution_count": 20,
   "id": "689c7c55",
   "metadata": {
    "execution": {
     "iopub.execute_input": "2022-01-31T13:33:13.734388Z",
     "iopub.status.busy": "2022-01-31T13:33:13.733684Z",
     "iopub.status.idle": "2022-01-31T13:33:14.753812Z",
     "shell.execute_reply": "2022-01-31T13:33:14.753185Z",
     "shell.execute_reply.started": "2022-01-31T12:32:06.464599Z"
    },
    "papermill": {
     "duration": 1.054642,
     "end_time": "2022-01-31T13:33:14.753960",
     "exception": false,
     "start_time": "2022-01-31T13:33:13.699318",
     "status": "completed"
    },
    "tags": []
   },
   "outputs": [
    {
     "data": {
      "text/plain": [
       "LinearRegression()"
      ]
     },
     "execution_count": 20,
     "metadata": {},
     "output_type": "execute_result"
    }
   ],
   "source": [
    "lr.fit(X_train_std,y_train)"
   ]
  },
  {
   "cell_type": "code",
   "execution_count": 21,
   "id": "96f0b3cc",
   "metadata": {
    "execution": {
     "iopub.execute_input": "2022-01-31T13:33:14.821702Z",
     "iopub.status.busy": "2022-01-31T13:33:14.819722Z",
     "iopub.status.idle": "2022-01-31T13:33:14.833826Z",
     "shell.execute_reply": "2022-01-31T13:33:14.834735Z",
     "shell.execute_reply.started": "2022-01-31T12:32:07.339081Z"
    },
    "papermill": {
     "duration": 0.050706,
     "end_time": "2022-01-31T13:33:14.835033",
     "exception": false,
     "start_time": "2022-01-31T13:33:14.784327",
     "status": "completed"
    },
    "tags": []
   },
   "outputs": [],
   "source": [
    "Y_pred_lr=lr.predict(X_val_std)"
   ]
  },
  {
   "cell_type": "code",
   "execution_count": 22,
   "id": "1f1f1f04",
   "metadata": {
    "execution": {
     "iopub.execute_input": "2022-01-31T13:33:14.952409Z",
     "iopub.status.busy": "2022-01-31T13:33:14.951753Z",
     "iopub.status.idle": "2022-01-31T13:33:14.972964Z",
     "shell.execute_reply": "2022-01-31T13:33:14.972438Z",
     "shell.execute_reply.started": "2022-01-31T12:32:07.3578Z"
    },
    "papermill": {
     "duration": 0.083661,
     "end_time": "2022-01-31T13:33:14.973141",
     "exception": false,
     "start_time": "2022-01-31T13:33:14.889480",
     "status": "completed"
    },
    "tags": []
   },
   "outputs": [
    {
     "name": "stdout",
     "output_type": "stream",
     "text": [
      "0.3830744254605081\n",
      "3.9541869553909783\n",
      "6.367650936698984\n"
     ]
    }
   ],
   "source": [
    "from sklearn.metrics import r2_score, mean_absolute_error, mean_squared_error\n",
    "print(r2_score(y_val,Y_pred_lr))\n",
    "print(mean_absolute_error(y_val,Y_pred_lr))\n",
    "print(np.sqrt(mean_squared_error(y_val,Y_pred_lr)))"
   ]
  },
  {
   "cell_type": "markdown",
   "id": "83646c51",
   "metadata": {
    "papermill": {
     "duration": 0.041763,
     "end_time": "2022-01-31T13:33:15.051731",
     "exception": false,
     "start_time": "2022-01-31T13:33:15.009968",
     "status": "completed"
    },
    "tags": []
   },
   "source": [
    "Neural Network"
   ]
  },
  {
   "cell_type": "code",
   "execution_count": 23,
   "id": "78e08faa",
   "metadata": {
    "execution": {
     "iopub.execute_input": "2022-01-31T13:33:15.128214Z",
     "iopub.status.busy": "2022-01-31T13:33:15.127512Z",
     "iopub.status.idle": "2022-01-31T13:33:15.245260Z",
     "shell.execute_reply": "2022-01-31T13:33:15.244609Z",
     "shell.execute_reply.started": "2022-01-31T12:32:07.3902Z"
    },
    "papermill": {
     "duration": 0.156497,
     "end_time": "2022-01-31T13:33:15.245436",
     "exception": false,
     "start_time": "2022-01-31T13:33:15.088939",
     "status": "completed"
    },
    "tags": []
   },
   "outputs": [
    {
     "name": "stderr",
     "output_type": "stream",
     "text": [
      "\n",
      "User settings:\n",
      "\n",
      "   KMP_AFFINITY=granularity=fine,noverbose,compact,1,0\n",
      "   KMP_BLOCKTIME=0\n",
      "   KMP_DUPLICATE_LIB_OK=True\n",
      "   KMP_INIT_AT_FORK=FALSE\n",
      "   KMP_SETTINGS=1\n",
      "   KMP_WARNINGS=0\n",
      "\n",
      "Effective settings:\n",
      "\n",
      "   KMP_ABORT_DELAY=0\n",
      "   KMP_ADAPTIVE_LOCK_PROPS='1,1024'\n",
      "   KMP_ALIGN_ALLOC=64\n",
      "   KMP_ALL_THREADPRIVATE=128\n",
      "   KMP_ATOMIC_MODE=2\n",
      "   KMP_BLOCKTIME=0\n",
      "   KMP_CPUINFO_FILE: value is not defined\n",
      "   KMP_DETERMINISTIC_REDUCTION=false\n",
      "   KMP_DEVICE_THREAD_LIMIT=2147483647\n",
      "   KMP_DISP_NUM_BUFFERS=7\n",
      "   KMP_DUPLICATE_LIB_OK=true\n",
      "   KMP_ENABLE_TASK_THROTTLING=true\n",
      "   KMP_FORCE_REDUCTION: value is not defined\n",
      "   KMP_FOREIGN_THREADS_THREADPRIVATE=true\n",
      "   KMP_FORKJOIN_BARRIER='2,2'\n",
      "   KMP_FORKJOIN_BARRIER_PATTERN='hyper,hyper'\n",
      "   KMP_GTID_MODE=3\n",
      "   KMP_HANDLE_SIGNALS=false\n",
      "   KMP_HOT_TEAMS_MAX_LEVEL=1\n",
      "   KMP_HOT_TEAMS_MODE=0\n",
      "   KMP_INIT_AT_FORK=true\n",
      "   KMP_LIBRARY=throughput\n",
      "   KMP_LOCK_KIND=queuing\n",
      "   KMP_MALLOC_POOL_INCR=1M\n",
      "   KMP_NUM_LOCKS_IN_BLOCK=1\n",
      "   KMP_PLAIN_BARRIER='2,2'\n",
      "   KMP_PLAIN_BARRIER_PATTERN='hyper,hyper'\n",
      "   KMP_REDUCTION_BARRIER='1,1'\n",
      "   KMP_REDUCTION_BARRIER_PATTERN='hyper,hyper'\n",
      "   KMP_SCHEDULE='static,balanced;guided,iterative'\n",
      "   KMP_SETTINGS=true\n",
      "   KMP_SPIN_BACKOFF_PARAMS='4096,100'\n",
      "   KMP_STACKOFFSET=64\n",
      "   KMP_STACKPAD=0\n",
      "   KMP_STACKSIZE=8M\n",
      "   KMP_STORAGE_MAP=false\n",
      "   KMP_TASKING=2\n",
      "   KMP_TASKLOOP_MIN_TASKS=0\n",
      "   KMP_TASK_STEALING_CONSTRAINT=1\n",
      "   KMP_TEAMS_THREAD_LIMIT=4\n",
      "   KMP_TOPOLOGY_METHOD=all\n",
      "   KMP_USE_YIELD=1\n",
      "   KMP_VERSION=false\n",
      "   KMP_WARNINGS=false\n",
      "   OMP_AFFINITY_FORMAT='OMP: pid %P tid %i thread %n bound to OS proc set {%A}'\n",
      "   OMP_ALLOCATOR=omp_default_mem_alloc\n",
      "   OMP_CANCELLATION=false\n",
      "   OMP_DEFAULT_DEVICE=0\n",
      "   OMP_DISPLAY_AFFINITY=false\n",
      "   OMP_DISPLAY_ENV=false\n",
      "   OMP_DYNAMIC=false\n",
      "   OMP_MAX_ACTIVE_LEVELS=1\n",
      "   OMP_MAX_TASK_PRIORITY=0\n",
      "   OMP_NESTED: deprecated; max-active-levels-var=1\n",
      "   OMP_NUM_THREADS: value is not defined\n",
      "   OMP_PLACES: value is not defined\n",
      "   OMP_PROC_BIND='intel'\n",
      "   OMP_SCHEDULE='static'\n",
      "   OMP_STACKSIZE=8M\n",
      "   OMP_TARGET_OFFLOAD=DEFAULT\n",
      "   OMP_THREAD_LIMIT=2147483647\n",
      "   OMP_WAIT_POLICY=PASSIVE\n",
      "   KMP_AFFINITY='noverbose,warnings,respect,granularity=fine,compact,1,0'\n",
      "\n",
      "2022-01-31 13:33:15.159745: I tensorflow/core/common_runtime/process_util.cc:146] Creating new thread pool with default inter op setting: 2. Tune using inter_op_parallelism_threads for best performance.\n"
     ]
    }
   ],
   "source": [
    "# Initialising the ANN\n",
    "model= Sequential()\n",
    "\n",
    "# Adding the input layer\n",
    "model.add(Dense(units=64,activation='relu',input_shape=[5]))\n",
    "# model.add(Dense(units=64,activation='relu',input_shape=[len(X_train.keys())]))\n",
    "\n",
    "# Adding the second hidden layer\n",
    "model.add(Dense(units=64,activation='relu'))\n",
    "\n",
    "# Adding the 3rd hidden layer\n",
    "model.add(Dense(units=64,activation='relu'))\n",
    "\n",
    "# Adding the output layer\n",
    "model.add(Dense(units=1))"
   ]
  },
  {
   "cell_type": "code",
   "execution_count": 24,
   "id": "f1b6a58f",
   "metadata": {
    "execution": {
     "iopub.execute_input": "2022-01-31T13:33:15.319450Z",
     "iopub.status.busy": "2022-01-31T13:33:15.311692Z",
     "iopub.status.idle": "2022-01-31T13:33:15.325439Z",
     "shell.execute_reply": "2022-01-31T13:33:15.325919Z",
     "shell.execute_reply.started": "2022-01-31T12:32:07.541219Z"
    },
    "papermill": {
     "duration": 0.048436,
     "end_time": "2022-01-31T13:33:15.326178",
     "exception": false,
     "start_time": "2022-01-31T13:33:15.277742",
     "status": "completed"
    },
    "tags": []
   },
   "outputs": [],
   "source": [
    "model.compile(loss='mean_squared_error',optimizer='Adam',metrics=['mean_squared_error','mean_absolute_error'])"
   ]
  },
  {
   "cell_type": "code",
   "execution_count": 25,
   "id": "8ca53211",
   "metadata": {
    "execution": {
     "iopub.execute_input": "2022-01-31T13:33:15.396189Z",
     "iopub.status.busy": "2022-01-31T13:33:15.395187Z",
     "iopub.status.idle": "2022-01-31T13:33:15.399196Z",
     "shell.execute_reply": "2022-01-31T13:33:15.400039Z",
     "shell.execute_reply.started": "2022-01-31T12:32:07.556621Z"
    },
    "papermill": {
     "duration": 0.043135,
     "end_time": "2022-01-31T13:33:15.400286",
     "exception": false,
     "start_time": "2022-01-31T13:33:15.357151",
     "status": "completed"
    },
    "tags": []
   },
   "outputs": [
    {
     "name": "stdout",
     "output_type": "stream",
     "text": [
      "Model: \"sequential\"\n",
      "_________________________________________________________________\n",
      "Layer (type)                 Output Shape              Param #   \n",
      "=================================================================\n",
      "dense (Dense)                (None, 64)                384       \n",
      "_________________________________________________________________\n",
      "dense_1 (Dense)              (None, 64)                4160      \n",
      "_________________________________________________________________\n",
      "dense_2 (Dense)              (None, 64)                4160      \n",
      "_________________________________________________________________\n",
      "dense_3 (Dense)              (None, 1)                 65        \n",
      "=================================================================\n",
      "Total params: 8,769\n",
      "Trainable params: 8,769\n",
      "Non-trainable params: 0\n",
      "_________________________________________________________________\n"
     ]
    }
   ],
   "source": [
    "model.summary()"
   ]
  },
  {
   "cell_type": "code",
   "execution_count": 26,
   "id": "54a16c4a",
   "metadata": {
    "execution": {
     "iopub.execute_input": "2022-01-31T13:33:15.469013Z",
     "iopub.status.busy": "2022-01-31T13:33:15.468329Z",
     "iopub.status.idle": "2022-01-31T13:59:38.286259Z",
     "shell.execute_reply": "2022-01-31T13:59:38.285561Z",
     "shell.execute_reply.started": "2022-01-31T12:32:07.567618Z"
    },
    "papermill": {
     "duration": 1582.854238,
     "end_time": "2022-01-31T13:59:38.286417",
     "exception": false,
     "start_time": "2022-01-31T13:33:15.432179",
     "status": "completed"
    },
    "tags": []
   },
   "outputs": [
    {
     "name": "stderr",
     "output_type": "stream",
     "text": [
      "2022-01-31 13:33:15.735201: I tensorflow/compiler/mlir/mlir_graph_optimization_pass.cc:185] None of the MLIR Optimization Passes are enabled (registered 2)\n"
     ]
    },
    {
     "name": "stdout",
     "output_type": "stream",
     "text": [
      "Epoch 1/10\n",
      "54324/54324 [==============================] - 155s 3ms/step - loss: 18.7129 - mean_squared_error: 18.7129 - mean_absolute_error: 2.2599\n",
      "Epoch 2/10\n",
      "54324/54324 [==============================] - 155s 3ms/step - loss: 17.6316 - mean_squared_error: 17.6316 - mean_absolute_error: 2.1604\n",
      "Epoch 3/10\n",
      "54324/54324 [==============================] - 152s 3ms/step - loss: 17.4541 - mean_squared_error: 17.4541 - mean_absolute_error: 2.1454\n",
      "Epoch 4/10\n",
      "54324/54324 [==============================] - 153s 3ms/step - loss: 17.3473 - mean_squared_error: 17.3473 - mean_absolute_error: 2.1364\n",
      "Epoch 5/10\n",
      "54324/54324 [==============================] - 156s 3ms/step - loss: 17.2833 - mean_squared_error: 17.2833 - mean_absolute_error: 2.1316\n",
      "Epoch 6/10\n",
      "54324/54324 [==============================] - 155s 3ms/step - loss: 17.2198 - mean_squared_error: 17.2198 - mean_absolute_error: 2.1258\n",
      "Epoch 7/10\n",
      "54324/54324 [==============================] - 155s 3ms/step - loss: 17.1841 - mean_squared_error: 17.1841 - mean_absolute_error: 2.1231\n",
      "Epoch 8/10\n",
      "54324/54324 [==============================] - 161s 3ms/step - loss: 17.1464 - mean_squared_error: 17.1464 - mean_absolute_error: 2.1201\n",
      "Epoch 9/10\n",
      "54324/54324 [==============================] - 158s 3ms/step - loss: 17.1099 - mean_squared_error: 17.1099 - mean_absolute_error: 2.1171\n",
      "Epoch 10/10\n",
      "54324/54324 [==============================] - 157s 3ms/step - loss: 17.0850 - mean_squared_error: 17.0850 - mean_absolute_error: 2.1152\n"
     ]
    },
    {
     "data": {
      "text/plain": [
       "<keras.callbacks.History at 0x7f815b5326d0>"
      ]
     },
     "execution_count": 26,
     "metadata": {},
     "output_type": "execute_result"
    }
   ],
   "source": [
    "model.fit(X_train_std,y_train,batch_size=100,epochs=10)"
   ]
  },
  {
   "cell_type": "code",
   "execution_count": 27,
   "id": "59f6d235",
   "metadata": {
    "execution": {
     "iopub.execute_input": "2022-01-31T13:59:57.295259Z",
     "iopub.status.busy": "2022-01-31T13:59:57.294148Z",
     "iopub.status.idle": "2022-01-31T14:05:03.136189Z",
     "shell.execute_reply": "2022-01-31T14:05:03.137027Z",
     "shell.execute_reply.started": "2022-01-31T12:52:30.39143Z"
    },
    "papermill": {
     "duration": 315.332429,
     "end_time": "2022-01-31T14:05:03.137250",
     "exception": false,
     "start_time": "2022-01-31T13:59:47.804821",
     "status": "completed"
    },
    "tags": []
   },
   "outputs": [
    {
     "name": "stdout",
     "output_type": "stream",
     "text": [
      "169763/169763 [==============================] - 306s 2ms/step - loss: 17.0651 - mean_squared_error: 17.0651 - mean_absolute_error: 2.1118\n"
     ]
    }
   ],
   "source": [
    "mae=model.evaluate(X_train_std,y_train)"
   ]
  },
  {
   "cell_type": "code",
   "execution_count": 28,
   "id": "0124aef2",
   "metadata": {
    "execution": {
     "iopub.execute_input": "2022-01-31T14:05:26.280425Z",
     "iopub.status.busy": "2022-01-31T14:05:26.279695Z",
     "iopub.status.idle": "2022-01-31T14:08:12.491334Z",
     "shell.execute_reply": "2022-01-31T14:08:12.492063Z",
     "shell.execute_reply.started": "2022-01-31T12:56:21.729318Z"
    },
    "papermill": {
     "duration": 177.916632,
     "end_time": "2022-01-31T14:08:12.492319",
     "exception": false,
     "start_time": "2022-01-31T14:05:14.575687",
     "status": "completed"
    },
    "tags": []
   },
   "outputs": [],
   "source": [
    "prediction=model.predict(test_std)"
   ]
  },
  {
   "cell_type": "code",
   "execution_count": 29,
   "id": "10d6acf0",
   "metadata": {
    "execution": {
     "iopub.execute_input": "2022-01-31T14:08:35.439608Z",
     "iopub.status.busy": "2022-01-31T14:08:35.437273Z",
     "iopub.status.idle": "2022-01-31T14:08:35.442471Z",
     "shell.execute_reply": "2022-01-31T14:08:35.441896Z",
     "shell.execute_reply.started": "2022-01-31T13:00:36.320549Z"
    },
    "papermill": {
     "duration": 11.522938,
     "end_time": "2022-01-31T14:08:35.442644",
     "exception": false,
     "start_time": "2022-01-31T14:08:23.919706",
     "status": "completed"
    },
    "tags": []
   },
   "outputs": [],
   "source": [
    "prediction = pd.DataFrame(prediction)"
   ]
  },
  {
   "cell_type": "code",
   "execution_count": 30,
   "id": "844ee453",
   "metadata": {
    "execution": {
     "iopub.execute_input": "2022-01-31T14:08:58.269355Z",
     "iopub.status.busy": "2022-01-31T14:08:58.268557Z",
     "iopub.status.idle": "2022-01-31T14:08:58.271512Z",
     "shell.execute_reply": "2022-01-31T14:08:58.272235Z",
     "shell.execute_reply.started": "2022-01-31T13:00:45.007686Z"
    },
    "papermill": {
     "duration": 11.36713,
     "end_time": "2022-01-31T14:08:58.272469",
     "exception": false,
     "start_time": "2022-01-31T14:08:46.905339",
     "status": "completed"
    },
    "tags": []
   },
   "outputs": [
    {
     "data": {
      "text/html": [
       "<div>\n",
       "<style scoped>\n",
       "    .dataframe tbody tr th:only-of-type {\n",
       "        vertical-align: middle;\n",
       "    }\n",
       "\n",
       "    .dataframe tbody tr th {\n",
       "        vertical-align: top;\n",
       "    }\n",
       "\n",
       "    .dataframe thead th {\n",
       "        text-align: right;\n",
       "    }\n",
       "</style>\n",
       "<table border=\"1\" class=\"dataframe\">\n",
       "  <thead>\n",
       "    <tr style=\"text-align: right;\">\n",
       "      <th></th>\n",
       "      <th>0</th>\n",
       "    </tr>\n",
       "  </thead>\n",
       "  <tbody>\n",
       "    <tr>\n",
       "      <th>0</th>\n",
       "      <td>5.996200</td>\n",
       "    </tr>\n",
       "    <tr>\n",
       "      <th>1</th>\n",
       "      <td>6.333659</td>\n",
       "    </tr>\n",
       "    <tr>\n",
       "      <th>2</th>\n",
       "      <td>7.375490</td>\n",
       "    </tr>\n",
       "    <tr>\n",
       "      <th>3</th>\n",
       "      <td>8.444229</td>\n",
       "    </tr>\n",
       "    <tr>\n",
       "      <th>4</th>\n",
       "      <td>9.935358</td>\n",
       "    </tr>\n",
       "    <tr>\n",
       "      <th>...</th>\n",
       "      <td>...</td>\n",
       "    </tr>\n",
       "    <tr>\n",
       "      <th>4023995</th>\n",
       "      <td>6.151299</td>\n",
       "    </tr>\n",
       "    <tr>\n",
       "      <th>4023996</th>\n",
       "      <td>6.129362</td>\n",
       "    </tr>\n",
       "    <tr>\n",
       "      <th>4023997</th>\n",
       "      <td>6.106656</td>\n",
       "    </tr>\n",
       "    <tr>\n",
       "      <th>4023998</th>\n",
       "      <td>6.081875</td>\n",
       "    </tr>\n",
       "    <tr>\n",
       "      <th>4023999</th>\n",
       "      <td>6.057258</td>\n",
       "    </tr>\n",
       "  </tbody>\n",
       "</table>\n",
       "<p>4024000 rows × 1 columns</p>\n",
       "</div>"
      ],
      "text/plain": [
       "                0\n",
       "0        5.996200\n",
       "1        6.333659\n",
       "2        7.375490\n",
       "3        8.444229\n",
       "4        9.935358\n",
       "...           ...\n",
       "4023995  6.151299\n",
       "4023996  6.129362\n",
       "4023997  6.106656\n",
       "4023998  6.081875\n",
       "4023999  6.057258\n",
       "\n",
       "[4024000 rows x 1 columns]"
      ]
     },
     "execution_count": 30,
     "metadata": {},
     "output_type": "execute_result"
    }
   ],
   "source": [
    "prediction"
   ]
  }
 ],
 "metadata": {
  "kernelspec": {
   "display_name": "Python 3",
   "language": "python",
   "name": "python3"
  },
  "language_info": {
   "codemirror_mode": {
    "name": "ipython",
    "version": 3
   },
   "file_extension": ".py",
   "mimetype": "text/x-python",
   "name": "python",
   "nbconvert_exporter": "python",
   "pygments_lexer": "ipython3",
   "version": "3.7.12"
  },
  "papermill": {
   "default_parameters": {},
   "duration": 2199.451611,
   "end_time": "2022-01-31T14:09:12.400837",
   "environment_variables": {},
   "exception": null,
   "input_path": "__notebook__.ipynb",
   "output_path": "__notebook__.ipynb",
   "parameters": {},
   "start_time": "2022-01-31T13:32:32.949226",
   "version": "2.3.3"
  }
 },
 "nbformat": 4,
 "nbformat_minor": 5
}
